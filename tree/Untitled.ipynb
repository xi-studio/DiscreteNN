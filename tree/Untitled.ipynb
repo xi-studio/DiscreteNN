{
 "cells": [
  {
   "cell_type": "code",
   "execution_count": 1,
   "metadata": {},
   "outputs": [],
   "source": [
    "from __future__ import print_function\n",
    "import argparse\n",
    "import torch\n",
    "import torch.utils.data\n",
    "from torch import nn, optim\n",
    "from torch.nn import functional as F\n",
    "from torchvision import datasets, transforms\n",
    "from torchvision.utils import save_image\n",
    "\n",
    "import numpy as np"
   ]
  },
  {
   "cell_type": "code",
   "execution_count": 2,
   "metadata": {},
   "outputs": [],
   "source": [
    "device = torch.device(\"cuda\")"
   ]
  },
  {
   "cell_type": "code",
   "execution_count": 3,
   "metadata": {},
   "outputs": [
    {
     "data": {
      "text/plain": [
       "<torch._C.Generator at 0x7f87c03c4f10>"
      ]
     },
     "execution_count": 3,
     "metadata": {},
     "output_type": "execute_result"
    }
   ],
   "source": [
    "torch.manual_seed(1)"
   ]
  },
  {
   "cell_type": "code",
   "execution_count": 5,
   "metadata": {},
   "outputs": [],
   "source": [
    "class GLU(nn.Module):\n",
    "    def __init__(self, c1, c2):\n",
    "        super(GLU, self).__init__()\n",
    "        self.s = nn.Linear(c1, c2)\n",
    "        self.g = nn.Linear(c1, c2)\n",
    "\n",
    "    def forward(self, x):\n",
    "        s = torch.sigmoid(self.s(x))\n",
    "        g = torch.relu(self.g(x))\n",
    "        output = s * g\n",
    "\n",
    "        return output\n",
    "    \n",
    "class Encoder(nn.Module):\n",
    "    def __init__(self):\n",
    "        super(Encoder, self).__init__()\n",
    "\n",
    "        self.fc1 = nn.Linear(784, 400)\n",
    "        self.fc2 = nn.Linear(400, 50)\n",
    "\n",
    "    def forward(self, x):\n",
    "\n",
    "        x = torch.relu(self.fc1(x))\n",
    "        phase = torch.sigmoid(self.fc2(x))\n",
    "\n",
    "        return phase\n",
    "    \n",
    "class Decoder(nn.Module):\n",
    "    def __init__(self):\n",
    "        super(Decoder, self).__init__()\n",
    "\n",
    "        self.fc1 = GLU(100, 400)\n",
    "        self.fc2 = nn.Linear(400, 784)\n",
    "\n",
    "    def forward(self, x):\n",
    "\n",
    "        x = self.fc1(x)\n",
    "        x = torch.sigmoid(self.fc2(x))\n",
    "\n",
    "        return x\n",
    "\n",
    "class Key(nn.Module):\n",
    "    def __init__(self):\n",
    "        super(Key, self).__init__()\n",
    "\n",
    "        self.fc1 = nn.Linear(10, 50)\n",
    "        self.fc2 = nn.Linear(50, 50)\n",
    "\n",
    "    def forward(self, x):\n",
    "        x = torch.relu(self.fc1(x))\n",
    "        w = torch.sigmoid(self.fc2(x))\n",
    "\n",
    "        return w\n",
    "class VAE(nn.Module):\n",
    "    def __init__(self):\n",
    "        super(VAE, self).__init__()\n",
    "\n",
    "        self.e = Encoder()\n",
    "        self.d = Decoder()\n",
    "        self.amplitude = Key()\n",
    "\n",
    "    def forward(self, x, c, t):\n",
    "        x = x.view(-1, 784)\n",
    "        N = x.shape[0]\n",
    "\n",
    "        w = self.amplitude(c)\n",
    "        phase = self.e(x)\n",
    "\n",
    "        w = w.view(N, 50, 1)\n",
    "        phase = phase.view(N, 50, 1)\n",
    "\n",
    "        w = w.repeat(1, 1, 100)\n",
    "        phase = phase.repeat(1, 1, 100)\n",
    "\n",
    "        x = torch.sin(2 * np.pi * w * t  + np.pi * phase )\n",
    "        x = x.sum(dim=1)\n",
    "        x = x.view(N, 100)\n",
    "        noise = torch.randn_like(x)\n",
    "        x = noise + x\n",
    "        x = self.d(x)\n",
    "\n",
    "        return x, w, phase"
   ]
  },
  {
   "cell_type": "code",
   "execution_count": 6,
   "metadata": {},
   "outputs": [],
   "source": [
    "model = VAE().to(device)"
   ]
  },
  {
   "cell_type": "code",
   "execution_count": 7,
   "metadata": {},
   "outputs": [],
   "source": [
    "model.load_state_dict(torch.load('checkpoints/mnist/fft_400.pt'))"
   ]
  },
  {
   "cell_type": "code",
   "execution_count": 8,
   "metadata": {},
   "outputs": [],
   "source": [
    "import matplotlib"
   ]
  },
  {
   "cell_type": "code",
   "execution_count": 9,
   "metadata": {},
   "outputs": [],
   "source": [
    "%matplotlib notebook"
   ]
  },
  {
   "cell_type": "code",
   "execution_count": 10,
   "metadata": {},
   "outputs": [],
   "source": [
    "import matplotlib.pyplot as plt"
   ]
  },
  {
   "cell_type": "code",
   "execution_count": 13,
   "metadata": {},
   "outputs": [],
   "source": [
    "model.eval()\n",
    "t = torch.arange(100)\n",
    "t = t.type(torch.FloatTensor)\n",
    "t = t.to(device)"
   ]
  },
  {
   "cell_type": "code",
   "execution_count": 118,
   "metadata": {},
   "outputs": [],
   "source": [
    "c = torch.zeros(1,10).to(device)"
   ]
  },
  {
   "cell_type": "code",
   "execution_count": 123,
   "metadata": {},
   "outputs": [],
   "source": [
    "data = torch.rand(1, 1, 28, 28).to(device)"
   ]
  },
  {
   "cell_type": "code",
   "execution_count": 124,
   "metadata": {},
   "outputs": [],
   "source": [
    "c[:,0] =1"
   ]
  },
  {
   "cell_type": "code",
   "execution_count": 125,
   "metadata": {},
   "outputs": [
    {
     "name": "stdout",
     "output_type": "stream",
     "text": [
      "(28, 28)\n"
     ]
    }
   ],
   "source": [
    "rx, w, phase= model(data, c, t)   \n",
    "img = rx.detach().cpu().numpy()\n",
    "img = img.reshape(28,28)   \n",
    "print(img.shape)\n",
    "#plt.imshow(img)\n"
   ]
  },
  {
   "cell_type": "raw",
   "metadata": {},
   "source": [
    "rx, w, phase= model(rx, c, t)  \n",
    "print(rx.shape)\n",
    "img = rx.detach().cpu().numpy()\n",
    "img = img.reshape(28,28)   \n",
    "print(img.shape)\n",
    "plt.imshow(img)\n"
   ]
  },
  {
   "cell_type": "code",
   "execution_count": null,
   "metadata": {},
   "outputs": [],
   "source": []
  },
  {
   "cell_type": "code",
   "execution_count": null,
   "metadata": {},
   "outputs": [],
   "source": []
  },
  {
   "cell_type": "code",
   "execution_count": null,
   "metadata": {},
   "outputs": [],
   "source": []
  },
  {
   "cell_type": "code",
   "execution_count": null,
   "metadata": {},
   "outputs": [],
   "source": []
  }
 ],
 "metadata": {
  "kernelspec": {
   "display_name": "Python 3",
   "language": "python",
   "name": "python3"
  },
  "language_info": {
   "codemirror_mode": {
    "name": "ipython",
    "version": 3
   },
   "file_extension": ".py",
   "mimetype": "text/x-python",
   "name": "python",
   "nbconvert_exporter": "python",
   "pygments_lexer": "ipython3",
   "version": "3.6.8"
  }
 },
 "nbformat": 4,
 "nbformat_minor": 2
}
